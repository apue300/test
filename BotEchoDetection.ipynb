{
 "cells": [
  {
   "cell_type": "markdown",
   "metadata": {},
   "source": [
    "# Social Bots and Echo Chamber Detection"
   ]
  },
  {
   "cell_type": "markdown",
   "metadata": {},
   "source": [
    "The cell below defines the abstract class whose API you will need to impement. Do NOT modify it."
   ]
  },
  {
   "cell_type": "code",
   "execution_count": 6,
   "metadata": {},
   "outputs": [],
   "source": [
    "# DO NOT MODIFY THIS CELL\n",
    "\n",
    "from abc import ABC, abstractmethod  \n",
    "\n",
    "class AbstractBotEchoDetection(ABC):\n",
    "    \n",
    "    # constructor\n",
    "    @abstractmethod\n",
    "    def __init__(self):\n",
    "        pass           \n",
    "        \n",
    "    # data initialisation\n",
    "    @abstractmethod\n",
    "    def createNetwork(self):\n",
    "        pass\n",
    "\n",
    "    # prints and returns a list of all detected social bots\n",
    "    # bots : list\n",
    "    @abstractmethod\n",
    "    def detectSocialBots(self):  \n",
    "        bots = []\n",
    "        return bots \n",
    "    \n",
    "    # prints and returns a list of all detected strongly connected components\n",
    "    # scc : list\n",
    "    @abstractmethod\n",
    "    def detectStronglyConnectedComponents(self):     \n",
    "        scc = []\n",
    "        return scc"
   ]
  },
  {
   "cell_type": "markdown",
   "metadata": {},
   "source": [
    "Use the cell below to define any data structure and auxiliary python function you may need. Leave the implementation of the main API to the next code cell instead. "
   ]
  },
  {
   "cell_type": "code",
   "execution_count": 7,
   "metadata": {},
   "outputs": [],
   "source": [
    "# ADD YOUR DATA STRUCTURE DEFINITIONS AND HELPER CODE HERE\n",
    "\n"
   ]
  },
  {
   "cell_type": "markdown",
   "metadata": {},
   "source": [
    "Use the cell below to implement the requested API. If you have been experimenting with different social bot / echo chamber detection algortihms, the code below should report your final choice only."
   ]
  },
  {
   "cell_type": "code",
   "execution_count": 8,
   "metadata": {},
   "outputs": [],
   "source": [
    "import random\n",
    "\n",
    "class BotEchoDetection(AbstractBotEchoDetection):\n",
    "    \n",
    "    def __init__(self):\n",
    "        # ADD YOUR CODE HERE\n",
    "\n",
    "        \n",
    "        pass           \n",
    "        \n",
    "    def createNetwork(self):\n",
    "        # ADD YOUR CODE HERE\n",
    "\n",
    "        \n",
    "        pass           \n",
    "\n",
    "    def detectSocialBots(self):  \n",
    "        # ADD YOUR CODE HERE\n",
    "        bots = []\n",
    "\n",
    "        \n",
    "        return bots \n",
    "    \n",
    "    def detectStronglyConnectedComponents(self):     \n",
    "        # ADD YOUR CODE HERE\n",
    "        scc = []\n",
    "\n",
    "        \n",
    "        return scc    "
   ]
  },
  {
   "cell_type": "markdown",
   "metadata": {},
   "source": [
    "The cell below exemplifies the test code I will invoke on your submission. Do NOT modify it. "
   ]
  },
  {
   "cell_type": "code",
   "execution_count": 9,
   "metadata": {},
   "outputs": [
    {
     "name": "stdout",
     "output_type": "stream",
     "text": [
      "\n",
      "Execution time to load/create a network: 0.0\n",
      "\n",
      "Execution time detectSocialBots: 0.0\n",
      "\n",
      "Execution time detectStronglyConnectedComponents: 0.0\n"
     ]
    }
   ],
   "source": [
    "# DO NOT MODIFY THIS CELL\n",
    "\n",
    "import timeit\n",
    "\n",
    "testBotEcho = BotEchoDetection()\n",
    "\n",
    "#\n",
    "# testing the createNetwork() API \n",
    "#\n",
    "starttime = timeit.default_timer()\n",
    "testBotEcho.createNetwork()\n",
    "endtime = timeit.default_timer()\n",
    "print(\"\\nExecution time to load/create a network:\", round(endtime-starttime,3))\n",
    "\n",
    "#\n",
    "# testing the social bot detection\n",
    "#\n",
    "starttime = timeit.default_timer()\n",
    "output = testBotEcho.detectSocialBots()\n",
    "endtime = timeit.default_timer()\n",
    "print(\"\\nExecution time detectSocialBots:\", round(endtime-starttime,3))\n",
    "\n",
    "#\n",
    "# testing the echo chamber detection\n",
    "#\n",
    "starttime = timeit.default_timer()\n",
    "output = testBotEcho.detectStronglyConnectedComponents()\n",
    "endtime = timeit.default_timer()\n",
    "print(\"\\nExecution time detectStronglyConnectedComponents:\", round(endtime-starttime,3))\n"
   ]
  },
  {
   "cell_type": "markdown",
   "metadata": {},
   "source": [
    "Use the cell below for all python code you developed to test the `BotEchoDetection` class. For example, if you have been experimenting with different algorithms before making a final choice, and if oyu have conducted experiments on different synthetic data to evaluate your algorithms, put all the code you used below."
   ]
  },
  {
   "cell_type": "code",
   "execution_count": 10,
   "metadata": {},
   "outputs": [],
   "source": [
    "import timeit\n",
    "import random\n",
    "\n",
    "# ADD ALL YOUR TEST CODE HERE\n",
    "\n",
    "\n",
    "\n"
   ]
  }
 ],
 "metadata": {
  "kernelspec": {
   "display_name": "Python 3",
   "language": "python",
   "name": "python3"
  },
  "language_info": {
   "codemirror_mode": {
    "name": "ipython",
    "version": 3
   },
   "file_extension": ".py",
   "mimetype": "text/x-python",
   "name": "python",
   "nbconvert_exporter": "python",
   "pygments_lexer": "ipython3",
   "version": "3.7.10"
  }
 },
 "nbformat": 4,
 "nbformat_minor": 4
}
